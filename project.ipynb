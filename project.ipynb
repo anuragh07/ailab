{
  "nbformat": 4,
  "nbformat_minor": 0,
  "metadata": {
    "colab": {
      "provenance": [],
      "authorship_tag": "ABX9TyNdPMXnN84iGBT+RbcyJePP",
      "include_colab_link": true
    },
    "kernelspec": {
      "name": "python3",
      "display_name": "Python 3"
    },
    "language_info": {
      "name": "python"
    }
  },
  "cells": [
    {
      "cell_type": "markdown",
      "metadata": {
        "id": "view-in-github",
        "colab_type": "text"
      },
      "source": [
        "<a href=\"https://colab.research.google.com/github/anuragh07/ailab/blob/main/project.ipynb\" target=\"_parent\"><img src=\"https://colab.research.google.com/assets/colab-badge.svg\" alt=\"Open In Colab\"/></a>"
      ]
    },
    {
      "cell_type": "code",
      "execution_count": 4,
      "metadata": {
        "colab": {
          "base_uri": "https://localhost:8080/"
        },
        "id": "9o-zfEJdMi31",
        "outputId": "9e4037b2-00b6-4192-9d14-246487cedb1c"
      },
      "outputs": [
        {
          "output_type": "stream",
          "name": "stdout",
          "text": [
            "A=5\n",
            "D=30\n",
            "C=36\n"
          ]
        }
      ],
      "source": [
        "def my_function3(expr, variables):\n",
        "    if isinstance(expr, int):\n",
        "        return expr\n",
        "    operator = None\n",
        "    result = None\n",
        "    first_digit = True\n",
        "    # for char in expr:\n",
        "    #   if char in  ['A', 'B', 'C', 'D', '0', '1', '2', '3', '4', '5', '6', '7', '8', '9']:\n",
        "    #     if\n",
        "    for char in expr:\n",
        "        if char in ['+', '-', '*']:\n",
        "            if operator is not None:\n",
        "                return None\n",
        "            operator = char\n",
        "        else:\n",
        "            if char not in ['A', 'B', 'C', 'D', '0', '1', '2', '3', '4', '5', '6', '7', '8', '9']:\n",
        "                return None\n",
        "            if char.isdigit() and first_digit and int(char) > 9:\n",
        "                return None\n",
        "            first_digit = False\n",
        "            if result is None:\n",
        "                result = evaluate_constituent(char, variables)\n",
        "                if result is None:\n",
        "                    return None\n",
        "            else:\n",
        "                operand = evaluate_constituent(char, variables)\n",
        "                if operand is None:\n",
        "                    return None\n",
        "                if operator == '+':\n",
        "                    result += operand\n",
        "                elif operator == '-':\n",
        "                    result -= operand\n",
        "                elif operator == '*':\n",
        "                    result *= operand\n",
        "\n",
        "    return result\n",
        "\n",
        "def evaluate_constituent(cons, variables):\n",
        "    if cons.isdigit():\n",
        "        return int(cons)\n",
        "    elif cons.isalpha() and cons in variables:\n",
        "        return variables[cons]\n",
        "    else:\n",
        "        return None\n",
        "\n",
        "def my_function1(statements):\n",
        "    variables = {}\n",
        "    for stmt in statements:\n",
        "        if '=' in stmt:\n",
        "            variable, expression = stmt.split('=')\n",
        "            variable = variable.strip()\n",
        "            expression = expression.strip()\n",
        "            if not variable.isalpha() or not all(char in ['A', 'B', 'C', 'D', '0', '1', '2', '3', '4', '5', '6', '7', '8', '9', '+', '-', '*', ' '] for char in expression):\n",
        "                print(\"Not valid statements\")\n",
        "                return\n",
        "            variables[variable] = my_function3(expression, variables)\n",
        "            if variables[variable] is None:\n",
        "                print(\"Not valid statements\")\n",
        "                return\n",
        "\n",
        "    for variable, value in variables.items():\n",
        "        print(f\"{variable}={value}\")\n",
        "\n",
        "statements = [\n",
        "    \"A=5\",\n",
        "    \"D=6*A\",\n",
        "    \"C=D+60\",\n",
        "    \"STOP\"\n",
        "]\n",
        "\n",
        "my_function1(statements)\n"
      ]
    }
  ]
}